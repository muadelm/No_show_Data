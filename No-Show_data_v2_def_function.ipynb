{
 "cells": [
  {
   "cell_type": "markdown",
   "metadata": {},
   "source": [
    "# No-show dataset"
   ]
  },
  {
   "cell_type": "code",
   "execution_count": 1,
   "metadata": {},
   "outputs": [],
   "source": [
    "# import the packages \n",
    "import pandas as pd\n",
    "import matplotlib.pyplot as plt\n",
    "%matplotlib inline\n"
   ]
  },
  {
   "cell_type": "markdown",
   "metadata": {},
   "source": [
    "<a id='wrangling'></a>\n",
    "## Data Wrangling\n",
    "\n",
    "### General Properties"
   ]
  },
  {
   "cell_type": "code",
   "execution_count": 2,
   "metadata": {},
   "outputs": [
    {
     "data": {
      "text/html": [
       "<div>\n",
       "<style scoped>\n",
       "    .dataframe tbody tr th:only-of-type {\n",
       "        vertical-align: middle;\n",
       "    }\n",
       "\n",
       "    .dataframe tbody tr th {\n",
       "        vertical-align: top;\n",
       "    }\n",
       "\n",
       "    .dataframe thead th {\n",
       "        text-align: right;\n",
       "    }\n",
       "</style>\n",
       "<table border=\"1\" class=\"dataframe\">\n",
       "  <thead>\n",
       "    <tr style=\"text-align: right;\">\n",
       "      <th></th>\n",
       "      <th>PatientId</th>\n",
       "      <th>AppointmentID</th>\n",
       "      <th>Gender</th>\n",
       "      <th>ScheduledDay</th>\n",
       "      <th>AppointmentDay</th>\n",
       "      <th>Age</th>\n",
       "      <th>Neighbourhood</th>\n",
       "      <th>Scholarship</th>\n",
       "      <th>Hipertension</th>\n",
       "      <th>Diabetes</th>\n",
       "      <th>Alcoholism</th>\n",
       "      <th>Handcap</th>\n",
       "      <th>SMS_received</th>\n",
       "      <th>No-show</th>\n",
       "    </tr>\n",
       "  </thead>\n",
       "  <tbody>\n",
       "    <tr>\n",
       "      <th>0</th>\n",
       "      <td>2.987250e+13</td>\n",
       "      <td>5642903</td>\n",
       "      <td>F</td>\n",
       "      <td>2016-04-29T18:38:08Z</td>\n",
       "      <td>2016-04-29T00:00:00Z</td>\n",
       "      <td>62</td>\n",
       "      <td>JARDIM DA PENHA</td>\n",
       "      <td>0</td>\n",
       "      <td>1</td>\n",
       "      <td>0</td>\n",
       "      <td>0</td>\n",
       "      <td>0</td>\n",
       "      <td>0</td>\n",
       "      <td>No</td>\n",
       "    </tr>\n",
       "    <tr>\n",
       "      <th>1</th>\n",
       "      <td>5.589978e+14</td>\n",
       "      <td>5642503</td>\n",
       "      <td>M</td>\n",
       "      <td>2016-04-29T16:08:27Z</td>\n",
       "      <td>2016-04-29T00:00:00Z</td>\n",
       "      <td>56</td>\n",
       "      <td>JARDIM DA PENHA</td>\n",
       "      <td>0</td>\n",
       "      <td>0</td>\n",
       "      <td>0</td>\n",
       "      <td>0</td>\n",
       "      <td>0</td>\n",
       "      <td>0</td>\n",
       "      <td>No</td>\n",
       "    </tr>\n",
       "    <tr>\n",
       "      <th>2</th>\n",
       "      <td>4.262962e+12</td>\n",
       "      <td>5642549</td>\n",
       "      <td>F</td>\n",
       "      <td>2016-04-29T16:19:04Z</td>\n",
       "      <td>2016-04-29T00:00:00Z</td>\n",
       "      <td>62</td>\n",
       "      <td>MATA DA PRAIA</td>\n",
       "      <td>0</td>\n",
       "      <td>0</td>\n",
       "      <td>0</td>\n",
       "      <td>0</td>\n",
       "      <td>0</td>\n",
       "      <td>0</td>\n",
       "      <td>No</td>\n",
       "    </tr>\n",
       "    <tr>\n",
       "      <th>3</th>\n",
       "      <td>8.679512e+11</td>\n",
       "      <td>5642828</td>\n",
       "      <td>F</td>\n",
       "      <td>2016-04-29T17:29:31Z</td>\n",
       "      <td>2016-04-29T00:00:00Z</td>\n",
       "      <td>8</td>\n",
       "      <td>PONTAL DE CAMBURI</td>\n",
       "      <td>0</td>\n",
       "      <td>0</td>\n",
       "      <td>0</td>\n",
       "      <td>0</td>\n",
       "      <td>0</td>\n",
       "      <td>0</td>\n",
       "      <td>No</td>\n",
       "    </tr>\n",
       "    <tr>\n",
       "      <th>4</th>\n",
       "      <td>8.841186e+12</td>\n",
       "      <td>5642494</td>\n",
       "      <td>F</td>\n",
       "      <td>2016-04-29T16:07:23Z</td>\n",
       "      <td>2016-04-29T00:00:00Z</td>\n",
       "      <td>56</td>\n",
       "      <td>JARDIM DA PENHA</td>\n",
       "      <td>0</td>\n",
       "      <td>1</td>\n",
       "      <td>1</td>\n",
       "      <td>0</td>\n",
       "      <td>0</td>\n",
       "      <td>0</td>\n",
       "      <td>No</td>\n",
       "    </tr>\n",
       "  </tbody>\n",
       "</table>\n",
       "</div>"
      ],
      "text/plain": [
       "      PatientId  AppointmentID Gender          ScheduledDay  \\\n",
       "0  2.987250e+13        5642903      F  2016-04-29T18:38:08Z   \n",
       "1  5.589978e+14        5642503      M  2016-04-29T16:08:27Z   \n",
       "2  4.262962e+12        5642549      F  2016-04-29T16:19:04Z   \n",
       "3  8.679512e+11        5642828      F  2016-04-29T17:29:31Z   \n",
       "4  8.841186e+12        5642494      F  2016-04-29T16:07:23Z   \n",
       "\n",
       "         AppointmentDay  Age      Neighbourhood  Scholarship  Hipertension  \\\n",
       "0  2016-04-29T00:00:00Z   62    JARDIM DA PENHA            0             1   \n",
       "1  2016-04-29T00:00:00Z   56    JARDIM DA PENHA            0             0   \n",
       "2  2016-04-29T00:00:00Z   62      MATA DA PRAIA            0             0   \n",
       "3  2016-04-29T00:00:00Z    8  PONTAL DE CAMBURI            0             0   \n",
       "4  2016-04-29T00:00:00Z   56    JARDIM DA PENHA            0             1   \n",
       "\n",
       "   Diabetes  Alcoholism  Handcap  SMS_received No-show  \n",
       "0         0           0        0             0      No  \n",
       "1         0           0        0             0      No  \n",
       "2         0           0        0             0      No  \n",
       "3         0           0        0             0      No  \n",
       "4         1           0        0             0      No  "
      ]
     },
     "execution_count": 2,
     "metadata": {},
     "output_type": "execute_result"
    }
   ],
   "source": [
    "df = pd.read_csv('no-show.csv')\n",
    "df.head()"
   ]
  },
  {
   "cell_type": "code",
   "execution_count": 3,
   "metadata": {},
   "outputs": [
    {
     "data": {
      "text/html": [
       "<div>\n",
       "<style scoped>\n",
       "    .dataframe tbody tr th:only-of-type {\n",
       "        vertical-align: middle;\n",
       "    }\n",
       "\n",
       "    .dataframe tbody tr th {\n",
       "        vertical-align: top;\n",
       "    }\n",
       "\n",
       "    .dataframe thead th {\n",
       "        text-align: right;\n",
       "    }\n",
       "</style>\n",
       "<table border=\"1\" class=\"dataframe\">\n",
       "  <thead>\n",
       "    <tr style=\"text-align: right;\">\n",
       "      <th></th>\n",
       "      <th>PatientId</th>\n",
       "      <th>AppointmentID</th>\n",
       "      <th>Age</th>\n",
       "      <th>Scholarship</th>\n",
       "      <th>Hipertension</th>\n",
       "      <th>Diabetes</th>\n",
       "      <th>Alcoholism</th>\n",
       "      <th>Handcap</th>\n",
       "      <th>SMS_received</th>\n",
       "    </tr>\n",
       "  </thead>\n",
       "  <tbody>\n",
       "    <tr>\n",
       "      <th>count</th>\n",
       "      <td>1.105270e+05</td>\n",
       "      <td>1.105270e+05</td>\n",
       "      <td>110527.000000</td>\n",
       "      <td>110527.000000</td>\n",
       "      <td>110527.000000</td>\n",
       "      <td>110527.000000</td>\n",
       "      <td>110527.000000</td>\n",
       "      <td>110527.000000</td>\n",
       "      <td>110527.000000</td>\n",
       "    </tr>\n",
       "    <tr>\n",
       "      <th>mean</th>\n",
       "      <td>1.474963e+14</td>\n",
       "      <td>5.675305e+06</td>\n",
       "      <td>37.088874</td>\n",
       "      <td>0.098266</td>\n",
       "      <td>0.197246</td>\n",
       "      <td>0.071865</td>\n",
       "      <td>0.030400</td>\n",
       "      <td>0.022248</td>\n",
       "      <td>0.321026</td>\n",
       "    </tr>\n",
       "    <tr>\n",
       "      <th>std</th>\n",
       "      <td>2.560949e+14</td>\n",
       "      <td>7.129575e+04</td>\n",
       "      <td>23.110205</td>\n",
       "      <td>0.297675</td>\n",
       "      <td>0.397921</td>\n",
       "      <td>0.258265</td>\n",
       "      <td>0.171686</td>\n",
       "      <td>0.161543</td>\n",
       "      <td>0.466873</td>\n",
       "    </tr>\n",
       "    <tr>\n",
       "      <th>min</th>\n",
       "      <td>3.921784e+04</td>\n",
       "      <td>5.030230e+06</td>\n",
       "      <td>-1.000000</td>\n",
       "      <td>0.000000</td>\n",
       "      <td>0.000000</td>\n",
       "      <td>0.000000</td>\n",
       "      <td>0.000000</td>\n",
       "      <td>0.000000</td>\n",
       "      <td>0.000000</td>\n",
       "    </tr>\n",
       "    <tr>\n",
       "      <th>25%</th>\n",
       "      <td>4.172614e+12</td>\n",
       "      <td>5.640286e+06</td>\n",
       "      <td>18.000000</td>\n",
       "      <td>0.000000</td>\n",
       "      <td>0.000000</td>\n",
       "      <td>0.000000</td>\n",
       "      <td>0.000000</td>\n",
       "      <td>0.000000</td>\n",
       "      <td>0.000000</td>\n",
       "    </tr>\n",
       "    <tr>\n",
       "      <th>50%</th>\n",
       "      <td>3.173184e+13</td>\n",
       "      <td>5.680573e+06</td>\n",
       "      <td>37.000000</td>\n",
       "      <td>0.000000</td>\n",
       "      <td>0.000000</td>\n",
       "      <td>0.000000</td>\n",
       "      <td>0.000000</td>\n",
       "      <td>0.000000</td>\n",
       "      <td>0.000000</td>\n",
       "    </tr>\n",
       "    <tr>\n",
       "      <th>75%</th>\n",
       "      <td>9.439172e+13</td>\n",
       "      <td>5.725524e+06</td>\n",
       "      <td>55.000000</td>\n",
       "      <td>0.000000</td>\n",
       "      <td>0.000000</td>\n",
       "      <td>0.000000</td>\n",
       "      <td>0.000000</td>\n",
       "      <td>0.000000</td>\n",
       "      <td>1.000000</td>\n",
       "    </tr>\n",
       "    <tr>\n",
       "      <th>max</th>\n",
       "      <td>9.999816e+14</td>\n",
       "      <td>5.790484e+06</td>\n",
       "      <td>115.000000</td>\n",
       "      <td>1.000000</td>\n",
       "      <td>1.000000</td>\n",
       "      <td>1.000000</td>\n",
       "      <td>1.000000</td>\n",
       "      <td>4.000000</td>\n",
       "      <td>1.000000</td>\n",
       "    </tr>\n",
       "  </tbody>\n",
       "</table>\n",
       "</div>"
      ],
      "text/plain": [
       "          PatientId  AppointmentID            Age    Scholarship  \\\n",
       "count  1.105270e+05   1.105270e+05  110527.000000  110527.000000   \n",
       "mean   1.474963e+14   5.675305e+06      37.088874       0.098266   \n",
       "std    2.560949e+14   7.129575e+04      23.110205       0.297675   \n",
       "min    3.921784e+04   5.030230e+06      -1.000000       0.000000   \n",
       "25%    4.172614e+12   5.640286e+06      18.000000       0.000000   \n",
       "50%    3.173184e+13   5.680573e+06      37.000000       0.000000   \n",
       "75%    9.439172e+13   5.725524e+06      55.000000       0.000000   \n",
       "max    9.999816e+14   5.790484e+06     115.000000       1.000000   \n",
       "\n",
       "        Hipertension       Diabetes     Alcoholism        Handcap  \\\n",
       "count  110527.000000  110527.000000  110527.000000  110527.000000   \n",
       "mean        0.197246       0.071865       0.030400       0.022248   \n",
       "std         0.397921       0.258265       0.171686       0.161543   \n",
       "min         0.000000       0.000000       0.000000       0.000000   \n",
       "25%         0.000000       0.000000       0.000000       0.000000   \n",
       "50%         0.000000       0.000000       0.000000       0.000000   \n",
       "75%         0.000000       0.000000       0.000000       0.000000   \n",
       "max         1.000000       1.000000       1.000000       4.000000   \n",
       "\n",
       "        SMS_received  \n",
       "count  110527.000000  \n",
       "mean        0.321026  \n",
       "std         0.466873  \n",
       "min         0.000000  \n",
       "25%         0.000000  \n",
       "50%         0.000000  \n",
       "75%         1.000000  \n",
       "max         1.000000  "
      ]
     },
     "execution_count": 3,
     "metadata": {},
     "output_type": "execute_result"
    }
   ],
   "source": [
    "# get the describtion of the numerical columns in the data frame\n",
    "df.describe()"
   ]
  },
  {
   "cell_type": "code",
   "execution_count": 4,
   "metadata": {},
   "outputs": [
    {
     "name": "stdout",
     "output_type": "stream",
     "text": [
      "(110527, 14)\n",
      "\n",
      "Number of entreis is : 110527\n",
      "Number of columns is : 14\n"
     ]
    }
   ],
   "source": [
    "# get the size of the dataframe\n",
    "print(df.shape)\n",
    "print()\n",
    "x = df.shape[0] # this is the total number of data entries in the dataset\n",
    "print(\"Number of entreis is :\", str(x))\n",
    "print(\"Number of columns is :\", str(df.shape[1]))"
   ]
  },
  {
   "cell_type": "code",
   "execution_count": 5,
   "metadata": {},
   "outputs": [
    {
     "data": {
      "text/plain": [
       "PatientId         float64\n",
       "AppointmentID       int64\n",
       "Gender             object\n",
       "ScheduledDay       object\n",
       "AppointmentDay     object\n",
       "Age                 int64\n",
       "Neighbourhood      object\n",
       "Scholarship         int64\n",
       "Hipertension        int64\n",
       "Diabetes            int64\n",
       "Alcoholism          int64\n",
       "Handcap             int64\n",
       "SMS_received        int64\n",
       "No-show            object\n",
       "dtype: object"
      ]
     },
     "execution_count": 5,
     "metadata": {},
     "output_type": "execute_result"
    }
   ],
   "source": [
    "# understand the data type od entries in each column\n",
    "df.dtypes"
   ]
  },
  {
   "cell_type": "code",
   "execution_count": 6,
   "metadata": {},
   "outputs": [
    {
     "name": "stdout",
     "output_type": "stream",
     "text": [
      "<class 'pandas.core.frame.DataFrame'>\n",
      "RangeIndex: 110527 entries, 0 to 110526\n",
      "Data columns (total 14 columns):\n",
      "PatientId         110527 non-null float64\n",
      "AppointmentID     110527 non-null int64\n",
      "Gender            110527 non-null object\n",
      "ScheduledDay      110527 non-null object\n",
      "AppointmentDay    110527 non-null object\n",
      "Age               110527 non-null int64\n",
      "Neighbourhood     110527 non-null object\n",
      "Scholarship       110527 non-null int64\n",
      "Hipertension      110527 non-null int64\n",
      "Diabetes          110527 non-null int64\n",
      "Alcoholism        110527 non-null int64\n",
      "Handcap           110527 non-null int64\n",
      "SMS_received      110527 non-null int64\n",
      "No-show           110527 non-null object\n",
      "dtypes: float64(1), int64(8), object(5)\n",
      "memory usage: 11.8+ MB\n"
     ]
    }
   ],
   "source": [
    "# get the total number of nun-null values in each column\n",
    "df.info()"
   ]
  },
  {
   "cell_type": "markdown",
   "metadata": {},
   "source": [
    "#### Outcome: df does not have null values but the datatypes needs to be adjusted in the Data Cleaning process \n"
   ]
  },
  {
   "cell_type": "code",
   "execution_count": 7,
   "metadata": {},
   "outputs": [
    {
     "data": {
      "text/plain": [
       "str"
      ]
     },
     "execution_count": 7,
     "metadata": {},
     "output_type": "execute_result"
    }
   ],
   "source": [
    "#Explore the data type of the 'ScheduledDay' column as it should be a date type\n",
    "type(df['ScheduledDay'][0])"
   ]
  },
  {
   "cell_type": "code",
   "execution_count": 8,
   "metadata": {},
   "outputs": [
    {
     "data": {
      "text/plain": [
       "PatientId          62299\n",
       "AppointmentID     110527\n",
       "Gender                 2\n",
       "ScheduledDay      103549\n",
       "AppointmentDay        27\n",
       "Age                  104\n",
       "Neighbourhood         81\n",
       "Scholarship            2\n",
       "Hipertension           2\n",
       "Diabetes               2\n",
       "Alcoholism             2\n",
       "Handcap                5\n",
       "SMS_received           2\n",
       "No-show                2\n",
       "dtype: int64"
      ]
     },
     "execution_count": 8,
     "metadata": {},
     "output_type": "execute_result"
    }
   ],
   "source": [
    "#understand the data though knowledge of how many unique values\n",
    "df.nunique()"
   ]
  },
  {
   "cell_type": "markdown",
   "metadata": {},
   "source": [
    "# Questions that could arise from the dataset are:\n",
    "### How many people recieved sms and did not attend?\n",
    "### What are the age groups did not attend their appointent?\n",
    "### What is the distribtion of no shows between different age groups?\n",
    "### What is the distribtion of no shows between genders?\n",
    "### Does the period between the scheduled day and the appointmnet day impact the no shows?"
   ]
  },
  {
   "cell_type": "markdown",
   "metadata": {},
   "source": [
    "\n",
    "\n",
    "## Data Cleaning "
   ]
  },
  {
   "cell_type": "markdown",
   "metadata": {},
   "source": [
    "#### Adjust datatypes"
   ]
  },
  {
   "cell_type": "code",
   "execution_count": 9,
   "metadata": {},
   "outputs": [
    {
     "data": {
      "text/plain": [
       "0"
      ]
     },
     "execution_count": 9,
     "metadata": {},
     "output_type": "execute_result"
    }
   ],
   "source": [
    "# check for dublicated rows\n",
    "df.duplicated().sum()"
   ]
  },
  {
   "cell_type": "markdown",
   "metadata": {},
   "source": [
    "#### Outcome: the dataframe does not has any dublicated rows"
   ]
  },
  {
   "cell_type": "code",
   "execution_count": 10,
   "metadata": {},
   "outputs": [],
   "source": [
    "# correct data types for 'ScheduledDay', 'AppointmentDay' columns to a date formate \n",
    "# the other columns have teh right data type with several categorical columns represented by numerical values 0 and 1\n",
    "\n",
    "df['PatientId'] = df['PatientId'].astype('int64')\n",
    "df['ScheduledDay'] = df['ScheduledDay'].astype('datetime64')\n",
    "df['AppointmentDay'] = df['AppointmentDay'].astype('datetime64')\n"
   ]
  },
  {
   "cell_type": "code",
   "execution_count": 11,
   "metadata": {},
   "outputs": [
    {
     "data": {
      "text/plain": [
       "PatientId                  int64\n",
       "AppointmentID              int64\n",
       "Gender                    object\n",
       "ScheduledDay      datetime64[ns]\n",
       "AppointmentDay    datetime64[ns]\n",
       "Age                        int64\n",
       "Neighbourhood             object\n",
       "Scholarship                int64\n",
       "Hipertension               int64\n",
       "Diabetes                   int64\n",
       "Alcoholism                 int64\n",
       "Handcap                    int64\n",
       "SMS_received               int64\n",
       "No-show                   object\n",
       "dtype: object"
      ]
     },
     "execution_count": 11,
     "metadata": {},
     "output_type": "execute_result"
    }
   ],
   "source": [
    "# check the data types of the dataframe\n",
    "df.dtypes"
   ]
  },
  {
   "cell_type": "markdown",
   "metadata": {},
   "source": [
    "#### Format column names (lower case letters)"
   ]
  },
  {
   "cell_type": "code",
   "execution_count": 12,
   "metadata": {},
   "outputs": [],
   "source": [
    "# convert column names to lower case letters\n",
    "df.columns = map(str.lower, df.columns)"
   ]
  },
  {
   "cell_type": "code",
   "execution_count": 13,
   "metadata": {},
   "outputs": [
    {
     "data": {
      "text/html": [
       "<div>\n",
       "<style scoped>\n",
       "    .dataframe tbody tr th:only-of-type {\n",
       "        vertical-align: middle;\n",
       "    }\n",
       "\n",
       "    .dataframe tbody tr th {\n",
       "        vertical-align: top;\n",
       "    }\n",
       "\n",
       "    .dataframe thead th {\n",
       "        text-align: right;\n",
       "    }\n",
       "</style>\n",
       "<table border=\"1\" class=\"dataframe\">\n",
       "  <thead>\n",
       "    <tr style=\"text-align: right;\">\n",
       "      <th></th>\n",
       "      <th>patientid</th>\n",
       "      <th>appointmentid</th>\n",
       "      <th>gender</th>\n",
       "      <th>scheduledday</th>\n",
       "      <th>appointmentday</th>\n",
       "      <th>age</th>\n",
       "      <th>neighbourhood</th>\n",
       "      <th>scholarship</th>\n",
       "      <th>hipertension</th>\n",
       "      <th>diabetes</th>\n",
       "      <th>alcoholism</th>\n",
       "      <th>handcap</th>\n",
       "      <th>sms_received</th>\n",
       "      <th>no-show</th>\n",
       "    </tr>\n",
       "  </thead>\n",
       "  <tbody>\n",
       "    <tr>\n",
       "      <th>0</th>\n",
       "      <td>29872499824296</td>\n",
       "      <td>5642903</td>\n",
       "      <td>F</td>\n",
       "      <td>2016-04-29 18:38:08</td>\n",
       "      <td>2016-04-29</td>\n",
       "      <td>62</td>\n",
       "      <td>JARDIM DA PENHA</td>\n",
       "      <td>0</td>\n",
       "      <td>1</td>\n",
       "      <td>0</td>\n",
       "      <td>0</td>\n",
       "      <td>0</td>\n",
       "      <td>0</td>\n",
       "      <td>No</td>\n",
       "    </tr>\n",
       "  </tbody>\n",
       "</table>\n",
       "</div>"
      ],
      "text/plain": [
       "        patientid  appointmentid gender        scheduledday appointmentday  \\\n",
       "0  29872499824296        5642903      F 2016-04-29 18:38:08     2016-04-29   \n",
       "\n",
       "   age    neighbourhood  scholarship  hipertension  diabetes  alcoholism  \\\n",
       "0   62  JARDIM DA PENHA            0             1         0           0   \n",
       "\n",
       "   handcap  sms_received no-show  \n",
       "0        0             0      No  "
      ]
     },
     "execution_count": 13,
     "metadata": {},
     "output_type": "execute_result"
    }
   ],
   "source": [
    "# confirm the names of the columns as lower case letters\n",
    "df.head(1)"
   ]
  },
  {
   "cell_type": "code",
   "execution_count": 14,
   "metadata": {},
   "outputs": [],
   "source": [
    "# Adjust the column names\n",
    "df.rename(columns={\"patientid\": \"patient_id\",\"appointmentid\": \"appointment_id\",\n",
    "                  \"scheduledday\": \"scheduled_day\",\n",
    "                  \"appointmentday\": \"appointment_day\",\n",
    "                  \"no-show\": \"no_show\"}, inplace = True)"
   ]
  },
  {
   "cell_type": "code",
   "execution_count": 15,
   "metadata": {},
   "outputs": [
    {
     "data": {
      "text/html": [
       "<div>\n",
       "<style scoped>\n",
       "    .dataframe tbody tr th:only-of-type {\n",
       "        vertical-align: middle;\n",
       "    }\n",
       "\n",
       "    .dataframe tbody tr th {\n",
       "        vertical-align: top;\n",
       "    }\n",
       "\n",
       "    .dataframe thead th {\n",
       "        text-align: right;\n",
       "    }\n",
       "</style>\n",
       "<table border=\"1\" class=\"dataframe\">\n",
       "  <thead>\n",
       "    <tr style=\"text-align: right;\">\n",
       "      <th></th>\n",
       "      <th>patient_id</th>\n",
       "      <th>appointment_id</th>\n",
       "      <th>gender</th>\n",
       "      <th>scheduled_day</th>\n",
       "      <th>appointment_day</th>\n",
       "      <th>age</th>\n",
       "      <th>neighbourhood</th>\n",
       "      <th>scholarship</th>\n",
       "      <th>hipertension</th>\n",
       "      <th>diabetes</th>\n",
       "      <th>alcoholism</th>\n",
       "      <th>handcap</th>\n",
       "      <th>sms_received</th>\n",
       "      <th>no_show</th>\n",
       "    </tr>\n",
       "  </thead>\n",
       "  <tbody>\n",
       "    <tr>\n",
       "      <th>0</th>\n",
       "      <td>29872499824296</td>\n",
       "      <td>5642903</td>\n",
       "      <td>F</td>\n",
       "      <td>2016-04-29 18:38:08</td>\n",
       "      <td>2016-04-29</td>\n",
       "      <td>62</td>\n",
       "      <td>JARDIM DA PENHA</td>\n",
       "      <td>0</td>\n",
       "      <td>1</td>\n",
       "      <td>0</td>\n",
       "      <td>0</td>\n",
       "      <td>0</td>\n",
       "      <td>0</td>\n",
       "      <td>No</td>\n",
       "    </tr>\n",
       "  </tbody>\n",
       "</table>\n",
       "</div>"
      ],
      "text/plain": [
       "       patient_id  appointment_id gender       scheduled_day appointment_day  \\\n",
       "0  29872499824296         5642903      F 2016-04-29 18:38:08      2016-04-29   \n",
       "\n",
       "   age    neighbourhood  scholarship  hipertension  diabetes  alcoholism  \\\n",
       "0   62  JARDIM DA PENHA            0             1         0           0   \n",
       "\n",
       "   handcap  sms_received no_show  \n",
       "0        0             0      No  "
      ]
     },
     "execution_count": 15,
     "metadata": {},
     "output_type": "execute_result"
    }
   ],
   "source": [
    "# confirm the names of the columns after adjustments \n",
    "df.head(1)"
   ]
  },
  {
   "cell_type": "markdown",
   "metadata": {},
   "source": [
    "<a id='eda'></a>\n",
    "## Exploratory Data Analysis\n",
    "\n",
    "\n",
    "### What age group experienced the most no show?"
   ]
  },
  {
   "cell_type": "code",
   "execution_count": 16,
   "metadata": {},
   "outputs": [],
   "source": [
    "# construct a dataframe with the columns of interest\n",
    "# for example, the patient ID and the date are not required at this stage\n",
    "dfc = df[['gender','age', 'neighbourhood', 'scholarship',\n",
    "          'diabetes', 'alcoholism', 'handcap',\n",
    "             'hipertension','sms_received', 'no_show']]"
   ]
  },
  {
   "cell_type": "code",
   "execution_count": 17,
   "metadata": {
    "scrolled": true
   },
   "outputs": [
    {
     "name": "stdout",
     "output_type": "stream",
     "text": [
      "gender\n",
      "F    0.649977\n",
      "M    0.350023\n",
      "Name: gender, dtype: float64\n",
      "\n",
      "age\n",
      " 0      0.032019\n",
      " 1      0.020565\n",
      " 52     0.015797\n",
      " 49     0.014947\n",
      " 53     0.014938\n",
      " 56     0.014793\n",
      " 38     0.014738\n",
      " 59     0.014693\n",
      " 2      0.014639\n",
      " 50     0.014594\n",
      " 57     0.014503\n",
      " 36     0.014295\n",
      " 51     0.014178\n",
      " 19     0.013978\n",
      " 39     0.013897\n",
      " 37     0.013870\n",
      " 54     0.013843\n",
      " 34     0.013807\n",
      " 33     0.013788\n",
      " 30     0.013761\n",
      " 6      0.013761\n",
      " 3      0.013689\n",
      " 17     0.013653\n",
      " 32     0.013617\n",
      " 5      0.013472\n",
      " 44     0.013454\n",
      " 18     0.013454\n",
      " 58     0.013291\n",
      " 46     0.013209\n",
      " 45     0.013146\n",
      "          ...   \n",
      " 74     0.005447\n",
      " 76     0.005166\n",
      " 75     0.004922\n",
      " 78     0.004895\n",
      " 77     0.004768\n",
      " 80     0.004623\n",
      " 81     0.003927\n",
      " 82     0.003547\n",
      " 79     0.003529\n",
      " 84     0.002814\n",
      " 83     0.002533\n",
      " 85     0.002488\n",
      " 86     0.002352\n",
      " 87     0.001665\n",
      " 89     0.001565\n",
      " 88     0.001140\n",
      " 90     0.000986\n",
      " 92     0.000778\n",
      " 91     0.000597\n",
      " 93     0.000480\n",
      " 94     0.000299\n",
      " 95     0.000217\n",
      " 96     0.000154\n",
      " 97     0.000100\n",
      " 98     0.000054\n",
      " 115    0.000045\n",
      " 100    0.000036\n",
      " 102    0.000018\n",
      " 99     0.000009\n",
      "-1      0.000009\n",
      "Name: age, Length: 104, dtype: float64\n",
      "\n",
      "neighbourhood\n",
      "JARDIM CAMBURI                 0.069820\n",
      "MARIA ORTIZ                    0.052521\n",
      "RESISTÊNCIA                    0.040090\n",
      "JARDIM DA PENHA                0.035077\n",
      "ITARARÉ                        0.031793\n",
      "CENTRO                         0.030165\n",
      "TABUAZEIRO                     0.028337\n",
      "SANTA MARTHA                   0.028328\n",
      "JESUS DE NAZARETH              0.025813\n",
      "BONFIM                         0.025089\n",
      "SANTO ANTÔNIO                  0.024845\n",
      "SANTO ANDRÉ                    0.023261\n",
      "CARATOÍRA                      0.023207\n",
      "JABOUR                         0.022700\n",
      "SÃO PEDRO                      0.022148\n",
      "ILHA DO PRÍNCIPE               0.020502\n",
      "NOVA PALESTINA                 0.020484\n",
      "ANDORINHAS                     0.020466\n",
      "DA PENHA                       0.020058\n",
      "ROMÃO                          0.020040\n",
      "GURIGICA                       0.018258\n",
      "SÃO JOSÉ                       0.017887\n",
      "BELA VISTA                     0.017254\n",
      "MARUÍPE                        0.017208\n",
      "FORTE SÃO JOÃO                 0.017091\n",
      "ILHA DE SANTA MARIA            0.017055\n",
      "SÃO CRISTÓVÃO                  0.016611\n",
      "REDENÇÃO                       0.014051\n",
      "SÃO BENEDITO                   0.013019\n",
      "JOANA D´ARC                    0.012911\n",
      "                                 ...   \n",
      "SANTOS REIS                    0.004949\n",
      "ESTRELINHA                     0.004868\n",
      "SANTA CLARA                    0.004578\n",
      "SOLON BORGES                   0.004243\n",
      "PIEDADE                        0.004089\n",
      "SANTA CECÍLIA                  0.004053\n",
      "SANTA LÚCIA                    0.003963\n",
      "SANTA LUÍZA                    0.003872\n",
      "BARRO VERMELHO                 0.003827\n",
      "DO MOSCOSO                     0.003737\n",
      "MÁRIO CYPRESTE                 0.003357\n",
      "BOA VISTA                      0.002823\n",
      "COMDUSA                        0.002805\n",
      "DE LOURDES                     0.002760\n",
      "ARIOVALDO FAVALESSA            0.002551\n",
      "ANTÔNIO HONÓRIO                0.002452\n",
      "FRADINHOS                      0.002334\n",
      "ENSEADA DO SUÁ                 0.002126\n",
      "SANTA HELENA                   0.001610\n",
      "HORTO                          0.001583\n",
      "UNIVERSITÁRIO                  0.001375\n",
      "SEGURANÇA DO LAR               0.001312\n",
      "NAZARETH                       0.001221\n",
      "MORADA DE CAMBURI              0.000869\n",
      "PONTAL DE CAMBURI              0.000624\n",
      "ILHA DO BOI                    0.000317\n",
      "ILHA DO FRADE                  0.000090\n",
      "AEROPORTO                      0.000072\n",
      "ILHAS OCEÂNICAS DE TRINDADE    0.000018\n",
      "PARQUE INDUSTRIAL              0.000009\n",
      "Name: neighbourhood, Length: 81, dtype: float64\n",
      "\n",
      "scholarship\n",
      "0    0.901734\n",
      "1    0.098266\n",
      "Name: scholarship, dtype: float64\n",
      "\n",
      "diabetes\n",
      "0    0.928135\n",
      "1    0.071865\n",
      "Name: diabetes, dtype: float64\n",
      "\n",
      "alcoholism\n",
      "0    0.9696\n",
      "1    0.0304\n",
      "Name: alcoholism, dtype: float64\n",
      "\n",
      "handcap\n",
      "0    0.979724\n",
      "1    0.018475\n",
      "2    0.001656\n",
      "3    0.000118\n",
      "4    0.000027\n",
      "Name: handcap, dtype: float64\n",
      "\n",
      "hipertension\n",
      "0    0.802754\n",
      "1    0.197246\n",
      "Name: hipertension, dtype: float64\n",
      "\n",
      "sms_received\n",
      "0    0.678974\n",
      "1    0.321026\n",
      "Name: sms_received, dtype: float64\n",
      "\n",
      "no_show\n",
      "No     0.798067\n",
      "Yes    0.201933\n",
      "Name: no_show, dtype: float64\n",
      "\n"
     ]
    }
   ],
   "source": [
    "# get to know the size of each category in each column \n",
    "# like how many M and F in the Gender column and so on \n",
    "for col in dfc:\n",
    "    print(col)\n",
    "    print(df[col].value_counts()/x)\n",
    "    print()\n",
    "    continue\n",
    "    "
   ]
  },
  {
   "cell_type": "code",
   "execution_count": 18,
   "metadata": {},
   "outputs": [
    {
     "data": {
      "text/html": [
       "<div>\n",
       "<style scoped>\n",
       "    .dataframe tbody tr th:only-of-type {\n",
       "        vertical-align: middle;\n",
       "    }\n",
       "\n",
       "    .dataframe tbody tr th {\n",
       "        vertical-align: top;\n",
       "    }\n",
       "\n",
       "    .dataframe thead th {\n",
       "        text-align: right;\n",
       "    }\n",
       "</style>\n",
       "<table border=\"1\" class=\"dataframe\">\n",
       "  <thead>\n",
       "    <tr style=\"text-align: right;\">\n",
       "      <th></th>\n",
       "      <th>no_show</th>\n",
       "    </tr>\n",
       "  </thead>\n",
       "  <tbody>\n",
       "    <tr>\n",
       "      <th>No</th>\n",
       "      <td>88208</td>\n",
       "    </tr>\n",
       "    <tr>\n",
       "      <th>Yes</th>\n",
       "      <td>22319</td>\n",
       "    </tr>\n",
       "  </tbody>\n",
       "</table>\n",
       "</div>"
      ],
      "text/plain": [
       "     no_show\n",
       "No     88208\n",
       "Yes    22319"
      ]
     },
     "execution_count": 18,
     "metadata": {},
     "output_type": "execute_result"
    }
   ],
   "source": [
    "# get to know how many of the patients did not attend the appointment \n",
    "n_show = pd.DataFrame(df['no_show'].value_counts())\n",
    "n_show.head()\n"
   ]
  },
  {
   "cell_type": "code",
   "execution_count": 19,
   "metadata": {},
   "outputs": [
    {
     "data": {
      "image/png": "[encoded data removed]",
      "text/plain": [
       "<Figure size 720x576 with 9 Axes>"
      ]
     },
     "metadata": {
      "needs_background": "light"
     },
     "output_type": "display_data"
    }
   ],
   "source": [
    "# plot histograms to see teh distribution of numerical data columns\n",
    "df.hist(figsize = (10,8));"
   ]
  },
  {
   "cell_type": "code",
   "execution_count": 20,
   "metadata": {},
   "outputs": [],
   "source": [
    "# filter\n",
    "df_male = df.query('gender == \"M\"')\n",
    "df_female = df.query('gender == \"F\"' )"
   ]
  },
  {
   "cell_type": "code",
   "execution_count": 21,
   "metadata": {
    "scrolled": true
   },
   "outputs": [
    {
     "data": {
      "image/png": "[encoded data removed]",
      "text/plain": [
       "<Figure size 720x576 with 9 Axes>"
      ]
     },
     "metadata": {
      "needs_background": "light"
     },
     "output_type": "display_data"
    }
   ],
   "source": [
    "df_male.hist(figsize = (10,8));"
   ]
  },
  {
   "cell_type": "code",
   "execution_count": 22,
   "metadata": {
    "scrolled": true
   },
   "outputs": [
    {
     "data": {
      "image/png": "[encoded data removed]",
      "text/plain": [
       "<Figure size 720x576 with 9 Axes>"
      ]
     },
     "metadata": {
      "needs_background": "light"
     },
     "output_type": "display_data"
    }
   ],
   "source": [
    "df_female.hist(figsize = (10,8));"
   ]
  },
  {
   "cell_type": "code",
   "execution_count": 23,
   "metadata": {},
   "outputs": [
    {
     "name": "stdout",
     "output_type": "stream",
     "text": [
      "total number of males : 38687\n"
     ]
    }
   ],
   "source": [
    "# total number of male entries\n",
    "x_m = df_male.shape[0]\n",
    "print('total number of males :', x_m)"
   ]
  },
  {
   "cell_type": "code",
   "execution_count": 24,
   "metadata": {},
   "outputs": [
    {
     "name": "stdout",
     "output_type": "stream",
     "text": [
      "total number of females : 71840\n"
     ]
    }
   ],
   "source": [
    "# total number of female entries\n",
    "x_f = df_female.shape[0]\n",
    "print('total number of females :', x_f)"
   ]
  },
  {
   "cell_type": "code",
   "execution_count": 25,
   "metadata": {},
   "outputs": [
    {
     "name": "stdout",
     "output_type": "stream",
     "text": [
      "average age of male patients is : 33.73686251195492\n",
      "average age of male patients is : 38.89398663697105\n"
     ]
    }
   ],
   "source": [
    "# average age of males and females\n",
    "print('average age of male patients is :', df_male['age'].mean())\n",
    "print('average age of male patients is :',df_female['age'].mean())\n"
   ]
  },
  {
   "cell_type": "markdown",
   "metadata": {},
   "source": [
    "### Does the no show gender related?"
   ]
  },
  {
   "cell_type": "code",
   "execution_count": 26,
   "metadata": {},
   "outputs": [
    {
     "data": {
      "text/plain": [
       "No     0.800321\n",
       "Yes    0.199679\n",
       "Name: no_show, dtype: float64"
      ]
     },
     "execution_count": 26,
     "metadata": {},
     "output_type": "execute_result"
    }
   ],
   "source": [
    "# fraction of male patients attended the appointmnet\n",
    "df_male['no_show'].value_counts()/x_m"
   ]
  },
  {
   "cell_type": "code",
   "execution_count": 27,
   "metadata": {},
   "outputs": [
    {
     "data": {
      "text/plain": [
       "No     0.796854\n",
       "Yes    0.203146\n",
       "Name: no_show, dtype: float64"
      ]
     },
     "execution_count": 27,
     "metadata": {},
     "output_type": "execute_result"
    }
   ],
   "source": [
    "# fraction of male patients attended the appointmnet\n",
    "df_female['no_show'].value_counts()/x_f"
   ]
  },
  {
   "cell_type": "code",
   "execution_count": 28,
   "metadata": {},
   "outputs": [
    {
     "name": "stderr",
     "output_type": "stream",
     "text": [
      "C:\\Users\\Mustafa Adel\\Anaconda3\\lib\\site-packages\\matplotlib\\axes\\_axes.py:6521: MatplotlibDeprecationWarning: \n",
      "The 'normed' kwarg was deprecated in Matplotlib 2.1 and will be removed in 3.1. Use 'density' instead.\n",
      "  alternative=\"'density'\", removal=\"3.1\")\n"
     ]
    },
    {
     "data": {
      "image/png": "[encoded data removed]",
      "text/plain": [
       "<Figure size 432x288 with 1 Axes>"
      ]
     },
     "metadata": {
      "needs_background": "light"
     },
     "output_type": "display_data"
    }
   ],
   "source": [
    "# plot the destibution of the age between males and females in the dataset\n",
    "\n",
    "dhist_gend = dict(histtype='stepfilled', alpha=0.3, normed=True, bins=20)\n",
    "\n",
    "plt.hist(df_male['age'], **dhist_gend);\n",
    "plt.hist(df_female['age'], **dhist_gend);"
   ]
  },
  {
   "cell_type": "markdown",
   "metadata": {},
   "source": [
    "### Outcome: around 80% of males and 80% of females attended their appointmnet.\n",
    "The male patients are younger than the demale patients with average age of 33.7 years for males and 38.9 for females"
   ]
  },
  {
   "cell_type": "markdown",
   "metadata": {},
   "source": [
    "### handcap effect"
   ]
  },
  {
   "cell_type": "code",
   "execution_count": 39,
   "metadata": {},
   "outputs": [],
   "source": [
    "# define a function to split the data frame based on a desease or condition and investigate how it impacts\\n \n",
    "# attending or not attending the appointmnet, then it plots a double histograme to compare the distribution of age\n",
    "def split_and_plot(column):\n",
    "    df_yes = df[df[column]== 1]\n",
    "    df_no =df[df[column]== 0]\n",
    "    dhist_dia = dict(histtype='stepfilled', alpha=0.3, normed=True, bins=20)\n",
    "    plt.hist(df_yes['age'], **dhist_dia);\n",
    "    plt.hist(df_no['age'], **dhist_dia);\n",
    "    plt.title('Age destiburion in those who are/ or have' + ' ' + column +' - in blue - ' + 'and those who are not')\n",
    "    plt.xlabel('Age')\n",
    "    # value count of the yes answer to the now_show \n",
    "    vcy = df_yes['no_show'].value_counts()/x*100\n",
    "    # value count of the no answer to the now_show \n",
    "    vcn = df_no['no_show'].value_counts()/x*100\n",
    "    print(\"No_show statistics in those who suffer\", str(column))\n",
    "    print(vcy)\n",
    "    print('')\n",
    "    print(\"No_show statistics in those who does not suffer\", str(column))\n",
    "    print(vcn)"
   ]
  },
  {
   "cell_type": "code",
   "execution_count": 40,
   "metadata": {
    "scrolled": false
   },
   "outputs": [
    {
     "name": "stdout",
     "output_type": "stream",
     "text": [
      "No_show statistics in those who suffer handcap\n",
      "No     1.516372\n",
      "Yes    0.331141\n",
      "Name: no_show, dtype: float64\n",
      "\n",
      "No_show statistics in those who does not suffer handcap\n",
      "No     78.147421\n",
      "Yes    19.825020\n",
      "Name: no_show, dtype: float64\n"
     ]
    },
    {
     "data": {
      "image/png": "[encoded data removed]",
      "text/plain": [
       "<Figure size 432x288 with 1 Axes>"
      ]
     },
     "metadata": {
      "needs_background": "light"
     },
     "output_type": "display_data"
    }
   ],
   "source": [
    "split_and_plot('handcap')"
   ]
  },
  {
   "cell_type": "markdown",
   "metadata": {},
   "source": [
    "###  Diabetes effect "
   ]
  },
  {
   "cell_type": "code",
   "execution_count": 41,
   "metadata": {},
   "outputs": [
    {
     "name": "stdout",
     "output_type": "stream",
     "text": [
      "No_show statistics in those who suffer diabetes\n",
      "No     5.892678\n",
      "Yes    1.293802\n",
      "Name: no_show, dtype: float64\n",
      "\n",
      "No_show statistics in those who does not suffer diabetes\n",
      "No     73.914066\n",
      "Yes    18.899454\n",
      "Name: no_show, dtype: float64\n"
     ]
    },
    {
     "data": {
      "image/png": "[encoded data removed]",
      "text/plain": [
       "<Figure size 432x288 with 1 Axes>"
      ]
     },
     "metadata": {
      "needs_background": "light"
     },
     "output_type": "display_data"
    }
   ],
   "source": [
    "split_and_plot('diabetes')"
   ]
  },
  {
   "cell_type": "markdown",
   "metadata": {},
   "source": [
    "#### 1.2% of the patients did not attend their appointment and had diabetes\n",
    "18.8% of the patients did not attend their appoint and did not have diabetes "
   ]
  },
  {
   "cell_type": "markdown",
   "metadata": {},
   "source": [
    "### hipertension effect"
   ]
  },
  {
   "cell_type": "code",
   "execution_count": 42,
   "metadata": {},
   "outputs": [
    {
     "name": "stdout",
     "output_type": "stream",
     "text": [
      "No_show statistics in those who suffer hipertension\n",
      "No     16.311851\n",
      "Yes     3.412741\n",
      "Name: no_show, dtype: float64\n",
      "\n",
      "No_show statistics in those who does not suffer hipertension\n",
      "No     63.494893\n",
      "Yes    16.780515\n",
      "Name: no_show, dtype: float64\n"
     ]
    },
    {
     "data": {
      "image/png": "[encoded data removed]",
      "text/plain": [
       "<Figure size 432x288 with 1 Axes>"
      ]
     },
     "metadata": {
      "needs_background": "light"
     },
     "output_type": "display_data"
    }
   ],
   "source": [
    "split_and_plot('hipertension')"
   ]
  },
  {
   "cell_type": "markdown",
   "metadata": {},
   "source": [
    "#### 16% of those who did not attend their appointmnet does not suffer hipertension\n",
    "only 3% did not attend their appointmnet and suffer hipertension"
   ]
  },
  {
   "cell_type": "markdown",
   "metadata": {},
   "source": [
    "### alcoholism effecct"
   ]
  },
  {
   "cell_type": "code",
   "execution_count": 43,
   "metadata": {},
   "outputs": [
    {
     "name": "stdout",
     "output_type": "stream",
     "text": [
      "No_show statistics in those who suffer alcoholism\n",
      "No     2.427461\n",
      "Yes    0.612520\n",
      "Name: no_show, dtype: float64\n",
      "\n",
      "No_show statistics in those who does not suffer alcoholism\n",
      "No     77.379283\n",
      "Yes    19.580736\n",
      "Name: no_show, dtype: float64\n"
     ]
    },
    {
     "data": {
      "image/png": "[encoded data removed]",
      "text/plain": [
       "<Figure size 432x288 with 1 Axes>"
      ]
     },
     "metadata": {
      "needs_background": "light"
     },
     "output_type": "display_data"
    }
   ],
   "source": [
    "split_and_plot('alcoholism')"
   ]
  },
  {
   "cell_type": "markdown",
   "metadata": {},
   "source": [
    "#### less than 1% of the patients did not attend their appointmnet and suffer alcoholism\n",
    "tha majority suffering alcoholism are of older age than those who does not suffer alcoholism"
   ]
  },
  {
   "cell_type": "markdown",
   "metadata": {},
   "source": [
    "### sms_received effect"
   ]
  },
  {
   "cell_type": "code",
   "execution_count": 44,
   "metadata": {},
   "outputs": [
    {
     "name": "stdout",
     "output_type": "stream",
     "text": [
      "No_show statistics in those who suffer sms_received\n",
      "No     23.250427\n",
      "Yes     8.852136\n",
      "Name: no_show, dtype: float64\n",
      "\n",
      "No_show statistics in those who does not suffer sms_received\n",
      "No     56.556317\n",
      "Yes    11.341120\n",
      "Name: no_show, dtype: float64\n"
     ]
    },
    {
     "data": {
      "image/png": "[encoded data removed]",
      "text/plain": [
       "<Figure size 432x288 with 1 Axes>"
      ]
     },
     "metadata": {
      "needs_background": "light"
     },
     "output_type": "display_data"
    }
   ],
   "source": [
    "split_and_plot('sms_received')"
   ]
  },
  {
   "cell_type": "markdown",
   "metadata": {},
   "source": [
    "#### 8% got the sms and did not attend their appointmnet while 11% did not get the sms and did not attend their appointmnet \n",
    "The age destribution between those attended and those did not is very similar \n",
    "It can be colcluded that the sms did not have high impact"
   ]
  },
  {
   "cell_type": "markdown",
   "metadata": {},
   "source": [
    "### Location effect"
   ]
  },
  {
   "cell_type": "code",
   "execution_count": 55,
   "metadata": {},
   "outputs": [],
   "source": [
    "# get the data of the dataframe where patient did not attend their appointmnet\n",
    "df_nsy = df.query('no_show == \"Yes\"')\n",
    "# get the data of the dataframe where patient did attend their appointmnet\n",
    "df_nsn = df.query('no_show == \"No\"')"
   ]
  },
  {
   "cell_type": "code",
   "execution_count": 46,
   "metadata": {},
   "outputs": [
    {
     "data": {
      "text/plain": [
       "JARDIM CAMBURI                 1.325468\n",
       "MARIA ORTIZ                    1.102898\n",
       "ITARARÉ                        0.835090\n",
       "RESISTÊNCIA                    0.819709\n",
       "CENTRO                         0.636044\n",
       "JESUS DE NAZARETH              0.629710\n",
       "JARDIM DA PENHA                0.570901\n",
       "CARATOÍRA                      0.534711\n",
       "TABUAZEIRO                     0.518425\n",
       "BONFIM                         0.497616\n",
       "ILHA DO PRÍNCIPE               0.481330\n",
       "ANDORINHAS                     0.471378\n",
       "SÃO PEDRO                      0.465949\n",
       "SANTO ANDRÉ                    0.459616\n",
       "SANTA MARTHA                   0.448759\n",
       "SANTO ANTÔNIO                  0.437902\n",
       "ROMÃO                          0.428854\n",
       "GURIGICA                       0.412569\n",
       "JABOUR                         0.408045\n",
       "DA PENHA                       0.388140\n",
       "SÃO JOSÉ                       0.387236\n",
       "MARUÍPE                        0.383617\n",
       "NOVA PALESTINA                 0.363712\n",
       "BELA VISTA                     0.347426\n",
       "SANTOS DUMONT                  0.333855\n",
       "SÃO CRISTÓVÃO                  0.328427\n",
       "ILHA DE SANTA MARIA            0.326617\n",
       "FORTE SÃO JOÃO                 0.313046\n",
       "CRUZAMENTO                     0.275046\n",
       "PRAIA DO SUÁ                   0.265998\n",
       "                                 ...   \n",
       "SANTA CECÍLIA                  0.111285\n",
       "SANTOS REIS                    0.101333\n",
       "MATA DA PRAIA                  0.099523\n",
       "ESTRELINHA                     0.095904\n",
       "DO MOSCOSO                     0.083238\n",
       "BARRO VERMELHO                 0.082333\n",
       "PIEDADE                        0.079619\n",
       "DO CABRAL                      0.079619\n",
       "SANTA LÚCIA                    0.077809\n",
       "SANTA LUÍZA                    0.069666\n",
       "SOLON BORGES                   0.062428\n",
       "ARIOVALDO FAVALESSA            0.056095\n",
       "BOA VISTA                      0.052476\n",
       "COMDUSA                        0.050666\n",
       "MÁRIO CYPRESTE                 0.048857\n",
       "ENSEADA DO SUÁ                 0.047047\n",
       "ANTÔNIO HONÓRIO                0.045238\n",
       "FRADINHOS                      0.043428\n",
       "DE LOURDES                     0.042524\n",
       "HORTO                          0.038000\n",
       "SANTA HELENA                   0.033476\n",
       "UNIVERSITÁRIO                  0.028952\n",
       "NAZARETH                       0.026238\n",
       "SEGURANÇA DO LAR               0.025333\n",
       "MORADA DE CAMBURI              0.014476\n",
       "PONTAL DE CAMBURI              0.010857\n",
       "ILHA DO BOI                    0.002714\n",
       "ILHAS OCEÂNICAS DE TRINDADE    0.001810\n",
       "ILHA DO FRADE                  0.001810\n",
       "AEROPORTO                      0.000905\n",
       "Name: neighbourhood, Length: 80, dtype: float64"
      ]
     },
     "execution_count": 46,
     "metadata": {},
     "output_type": "execute_result"
    }
   ],
   "source": [
    "df_nsy['neighbourhood'].value_counts()/x*100"
   ]
  },
  {
   "cell_type": "code",
   "execution_count": 47,
   "metadata": {},
   "outputs": [
    {
     "data": {
      "text/plain": [
       "JARDIM CAMBURI         5.656536\n",
       "MARIA ORTIZ            4.149212\n",
       "RESISTÊNCIA            3.189266\n",
       "JARDIM DA PENHA        2.936839\n",
       "SANTA MARTHA           2.384033\n",
       "CENTRO                 2.380414\n",
       "ITARARÉ                2.344224\n",
       "TABUAZEIRO             2.315271\n",
       "SANTO ANTÔNIO          2.046559\n",
       "BONFIM                 2.011273\n",
       "JESUS DE NAZARETH      1.951559\n",
       "SANTO ANDRÉ            1.866512\n",
       "JABOUR                 1.861988\n",
       "CARATOÍRA              1.785989\n",
       "SÃO PEDRO              1.748894\n",
       "NOVA PALESTINA         1.684656\n",
       "DA PENHA               1.617704\n",
       "ANDORINHAS             1.575181\n",
       "ROMÃO                  1.575181\n",
       "ILHA DO PRÍNCIPE       1.568847\n",
       "GURIGICA               1.413229\n",
       "SÃO JOSÉ               1.401468\n",
       "FORTE SÃO JOÃO         1.396039\n",
       "ILHA DE SANTA MARIA    1.378849\n",
       "BELA VISTA             1.377944\n",
       "MARUÍPE                1.337230\n",
       "SÃO CRISTÓVÃO          1.332706\n",
       "REDENÇÃO               1.156279\n",
       "JOANA D´ARC            1.057660\n",
       "SÃO BENEDITO           1.042279\n",
       "                         ...   \n",
       "DO CABRAL              0.427045\n",
       "SANTOS REIS            0.393569\n",
       "ESTRELINHA             0.390855\n",
       "SOLON BORGES           0.361903\n",
       "SANTA CLARA            0.336569\n",
       "PIEDADE                0.329331\n",
       "SANTA LÚCIA            0.318474\n",
       "SANTA LUÍZA            0.317569\n",
       "BARRO VERMELHO         0.300379\n",
       "SANTA CECÍLIA          0.294046\n",
       "DO MOSCOSO             0.290427\n",
       "MÁRIO CYPRESTE         0.286808\n",
       "DE LOURDES             0.233427\n",
       "COMDUSA                0.229808\n",
       "BOA VISTA              0.229808\n",
       "ANTÔNIO HONÓRIO        0.199951\n",
       "ARIOVALDO FAVALESSA    0.199046\n",
       "FRADINHOS              0.189999\n",
       "ENSEADA DO SUÁ         0.165570\n",
       "SANTA HELENA           0.127571\n",
       "HORTO                  0.120333\n",
       "UNIVERSITÁRIO          0.108571\n",
       "SEGURANÇA DO LAR       0.105856\n",
       "NAZARETH               0.095904\n",
       "MORADA DE CAMBURI      0.072381\n",
       "PONTAL DE CAMBURI      0.051571\n",
       "ILHA DO BOI            0.028952\n",
       "ILHA DO FRADE          0.007238\n",
       "AEROPORTO              0.006333\n",
       "PARQUE INDUSTRIAL      0.000905\n",
       "Name: neighbourhood, Length: 80, dtype: float64"
      ]
     },
     "execution_count": 47,
     "metadata": {},
     "output_type": "execute_result"
    }
   ],
   "source": [
    "# get insights on locations - are there any areas have very high density if patinets?\n",
    "df_nsn['neighbourhood'].value_counts()/x*100"
   ]
  },
  {
   "cell_type": "code",
   "execution_count": 48,
   "metadata": {},
   "outputs": [],
   "source": [
    "#Difference between yes and no values to each neighborhood\n",
    "df_diff_loc = df_nsy['neighbourhood'].value_counts()/x*100 - df_nsn['neighbourhood'].value_counts()/x*100"
   ]
  },
  {
   "cell_type": "code",
   "execution_count": 49,
   "metadata": {},
   "outputs": [
    {
     "data": {
      "text/plain": [
       "AEROPORTO              False\n",
       "ANDORINHAS             False\n",
       "ANTÔNIO HONÓRIO        False\n",
       "ARIOVALDO FAVALESSA    False\n",
       "BARRO VERMELHO         False\n",
       "BELA VISTA             False\n",
       "BENTO FERREIRA         False\n",
       "BOA VISTA              False\n",
       "BONFIM                 False\n",
       "CARATOÍRA              False\n",
       "CENTRO                 False\n",
       "COMDUSA                False\n",
       "CONQUISTA              False\n",
       "CONSOLAÇÃO             False\n",
       "CRUZAMENTO             False\n",
       "DA PENHA               False\n",
       "DE LOURDES             False\n",
       "DO CABRAL              False\n",
       "DO MOSCOSO             False\n",
       "DO QUADRO              False\n",
       "ENSEADA DO SUÁ         False\n",
       "ESTRELINHA             False\n",
       "FONTE GRANDE           False\n",
       "FORTE SÃO JOÃO         False\n",
       "FRADINHOS              False\n",
       "GOIABEIRAS             False\n",
       "GRANDE VITÓRIA         False\n",
       "GURIGICA               False\n",
       "HORTO                  False\n",
       "ILHA DAS CAIEIRAS      False\n",
       "                       ...  \n",
       "PARQUE INDUSTRIAL      False\n",
       "PARQUE MOSCOSO         False\n",
       "PIEDADE                False\n",
       "PONTAL DE CAMBURI      False\n",
       "PRAIA DO CANTO         False\n",
       "PRAIA DO SUÁ           False\n",
       "REDENÇÃO               False\n",
       "REPÚBLICA              False\n",
       "RESISTÊNCIA            False\n",
       "ROMÃO                  False\n",
       "SANTA CECÍLIA          False\n",
       "SANTA CLARA            False\n",
       "SANTA HELENA           False\n",
       "SANTA LUÍZA            False\n",
       "SANTA LÚCIA            False\n",
       "SANTA MARTHA           False\n",
       "SANTA TEREZA           False\n",
       "SANTO ANDRÉ            False\n",
       "SANTO ANTÔNIO          False\n",
       "SANTOS DUMONT          False\n",
       "SANTOS REIS            False\n",
       "SEGURANÇA DO LAR       False\n",
       "SOLON BORGES           False\n",
       "SÃO BENEDITO           False\n",
       "SÃO CRISTÓVÃO          False\n",
       "SÃO JOSÉ               False\n",
       "SÃO PEDRO              False\n",
       "TABUAZEIRO             False\n",
       "UNIVERSITÁRIO          False\n",
       "VILA RUBIM             False\n",
       "Name: neighbourhood, Length: 81, dtype: bool"
      ]
     },
     "execution_count": 49,
     "metadata": {},
     "output_type": "execute_result"
    }
   ],
   "source": [
    "df_diff_loc >0"
   ]
  },
  {
   "cell_type": "code",
   "execution_count": 50,
   "metadata": {},
   "outputs": [
    {
     "data": {
      "text/plain": [
       "79"
      ]
     },
     "execution_count": 50,
     "metadata": {},
     "output_type": "execute_result"
    }
   ],
   "source": [
    "(df_diff_loc < 0).sum()"
   ]
  },
  {
   "cell_type": "markdown",
   "metadata": {},
   "source": [
    "### Differnece between the scehdule data time and the appointment itself"
   ]
  },
  {
   "cell_type": "code",
   "execution_count": 53,
   "metadata": {},
   "outputs": [],
   "source": [
    "# define a column to represent the difference ebtween the scheduled_day and the appointment_day\n",
    "df_nsy_time = df_nsy['scheduled_day'] - df_nsy['appointment_day']"
   ]
  },
  {
   "cell_type": "code",
   "execution_count": 54,
   "metadata": {},
   "outputs": [
    {
     "data": {
      "text/plain": [
       "count                        22319\n",
       "mean     -16 days +15:42:25.001120\n",
       "std        16 days 14:24:19.715831\n",
       "min            -179 days +10:40:59\n",
       "25%             -23 days +08:15:27\n",
       "50%             -11 days +16:17:29\n",
       "75%              -4 days +13:12:35\n",
       "max                6 days 13:49:20\n",
       "dtype: object"
      ]
     },
     "execution_count": 54,
     "metadata": {},
     "output_type": "execute_result"
    }
   ],
   "source": [
    "# get ststistics on the difference column defined above\n",
    "df_nsy_time.describe()"
   ]
  },
  {
   "cell_type": "code",
   "execution_count": 59,
   "metadata": {},
   "outputs": [
    {
     "data": {
      "text/plain": [
       "<function matplotlib.pyplot.show(*args, **kw)>"
      ]
     },
     "execution_count": 59,
     "metadata": {},
     "output_type": "execute_result"
    },
    {
     "data": {
      "image/png": "[encoded data removed]",
      "text/plain": [
       "<Figure size 432x288 with 1 Axes>"
      ]
     },
     "metadata": {
      "needs_background": "light"
     },
     "output_type": "display_data"
    }
   ],
   "source": [
    "# get the statistics on the difference column between dates when the patient did not attend their appointment \n",
    "\n",
    "plt.boxplot(df_nsy_time);\n",
    "plt.show"
   ]
  },
  {
   "cell_type": "code",
   "execution_count": 57,
   "metadata": {},
   "outputs": [],
   "source": [
    "df_nsn_time = df_nsn['scheduled_day'] - df_nsn['appointment_day']"
   ]
  },
  {
   "cell_type": "code",
   "execution_count": 58,
   "metadata": {},
   "outputs": [
    {
     "data": {
      "text/plain": [
       "count                       88208\n",
       "mean     -9 days +17:03:13.775405\n",
       "std       14 days 12:57:11.876227\n",
       "min           -179 days +10:42:42\n",
       "25%            -12 days +08:34:05\n",
       "50%             -2 days +09:03:16\n",
       "75%        0 days 09:00:59.750000\n",
       "max               0 days 20:44:54\n",
       "dtype: object"
      ]
     },
     "execution_count": 58,
     "metadata": {},
     "output_type": "execute_result"
    }
   ],
   "source": [
    "# get the statistics on the difference column between dates when the patient attend their appointment \n",
    "df_nsn_time.describe()"
   ]
  },
  {
   "cell_type": "code",
   "execution_count": 56,
   "metadata": {},
   "outputs": [
    {
     "data": {
      "text/plain": [
       "<function matplotlib.pyplot.show(*args, **kw)>"
      ]
     },
     "execution_count": 56,
     "metadata": {},
     "output_type": "execute_result"
    },
    {
     "data": {
      "image/png": "[encoded data removed]",
      "text/plain": [
       "<Figure size 432x288 with 1 Axes>"
      ]
     },
     "metadata": {
      "needs_background": "light"
     },
     "output_type": "display_data"
    }
   ],
   "source": [
    "plt.boxplot(df_nsn_time);\n",
    "plt.show"
   ]
  },
  {
   "cell_type": "markdown",
   "metadata": {},
   "source": [
    "### The longer the time frame between the schedule date and the appointmnet date the more the no_shows"
   ]
  },
  {
   "cell_type": "markdown",
   "metadata": {},
   "source": [
    "### Limitations\n",
    "The percentage of people having cronic deseases like diabetes, addected to alcohol and are handcaped are vey few. \n",
    "So it is difficult to judge the impact of these cases on attending or not attending the appointment \n",
    "Unlike hipertension that represent 19% of the data.\n",
    "\n",
    "Location information is not useful as we do not know the closenes of these locations to the hospital where patients attend their appointment"
   ]
  },
  {
   "cell_type": "markdown",
   "metadata": {},
   "source": [
    "<a id='conclusions'></a>\n",
    "## Conclusions\n",
    "\n"
   ]
  },
  {
   "cell_type": "markdown",
   "metadata": {
    "collapsed": true
   },
   "source": [
    "### 1-No impact on the no-show related to gender with value of \"no\" is 80% in both genders"
   ]
  },
  {
   "cell_type": "markdown",
   "metadata": {},
   "source": [
    "### 2-Most locations has more percentage of people went to the appointment than did not go"
   ]
  },
  {
   "cell_type": "markdown",
   "metadata": {},
   "source": [
    "### 3-The longer the time frame between the schedule date and the appointmnet date the more the no_shows"
   ]
  },
  {
   "cell_type": "markdown",
   "metadata": {},
   "source": [
    "### 4-The message has a minor impact on making people attend the appointmnet. 56% did not get a message and attended the appointment"
   ]
  },
  {
   "cell_type": "markdown",
   "metadata": {},
   "source": [
    "### 5-The percentage of people with cronic deseases and did not attend is very minor"
   ]
  },
  {
   "cell_type": "markdown",
   "metadata": {},
   "source": [
    "### 6- The percentage of young and old people missed the appointment is the same considering the number of people in the sample"
   ]
  },
  {
   "cell_type": "code",
   "execution_count": null,
   "metadata": {},
   "outputs": [],
   "source": []
  }
 ],
 "metadata": {
  "kernelspec": {
   "display_name": "Python 3",
   "language": "python",
   "name": "python3"
  },
  "language_info": {
   "codemirror_mode": {
    "name": "ipython",
    "version": 3
   },
   "file_extension": ".py",
   "mimetype": "text/x-python",
   "name": "python",
   "nbconvert_exporter": "python",
   "pygments_lexer": "ipython3",
   "version": "3.7.3"
  }
 },
 "nbformat": 4,
 "nbformat_minor": 2
}
